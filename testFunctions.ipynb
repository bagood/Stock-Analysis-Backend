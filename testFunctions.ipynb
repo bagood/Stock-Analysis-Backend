{
 "cells": [
  {
   "cell_type": "code",
   "execution_count": 1,
   "id": "2984e2bf-3800-45cb-981d-4066e621073b",
   "metadata": {},
   "outputs": [],
   "source": [
    "import numpy as np\n",
    "import pandas as pd\n",
    "\n",
    "from warnings import simplefilter\n",
    "simplefilter('ignore')\n",
    "\n",
    "from performStockAnalysis.main import select_kode_to_model, develop_models_for_selected_kode, make_forecasts_using_the_developed_models\n",
    "\n",
    "pd.set_option('display.max_columns', 50)\n",
    "pd.set_option('display.max_rows', 100)"
   ]
  },
  {
   "cell_type": "code",
   "execution_count": null,
   "id": "f83a13ae-6033-4ae6-b1c9-9c1d2e0edccd",
   "metadata": {
    "scrolled": true
   },
   "outputs": [],
   "source": [
    "from dataPreparation.main import prepare_data_for_modelling\n",
    "\n",
    "bbca = prepare_data_for_modelling('BBCA', '2021-01-01', '', 'Close', [10, 15])\n",
    "bbri = prepare_data_for_modelling('BBRI', '2021-01-01', '', 'Close', [10, 15])\n",
    "bmri = prepare_data_for_modelling('BMRI', '2021-01-01', '', 'Close', [10, 15])\n",
    "bbni = prepare_data_for_modelling('BBNI', '2021-01-01', '', 'Close', [10, 15])"
   ]
  },
  {
   "cell_type": "code",
   "execution_count": null,
   "id": "8f14ba9e-da21-43d6-9241-3d2153ac4422",
   "metadata": {},
   "outputs": [],
   "source": [
    "data = pd.concat((bbca, bbri, bmri, bbni))"
   ]
  },
  {
   "cell_type": "code",
   "execution_count": null,
   "id": "ab5ce8e1-d876-49ac-98b7-ef9500cce697",
   "metadata": {},
   "outputs": [],
   "source": [
    "data['Good Fit'] = data['Upcoming 10 Days Trend RSquared'].apply(lambda row: row >= 0.7)"
   ]
  },
  {
   "cell_type": "code",
   "execution_count": null,
   "id": "b05d3246-c52c-4c23-a8bc-9753e58bc845",
   "metadata": {},
   "outputs": [],
   "source": [
    "data['Good Fit'].value_counts()"
   ]
  },
  {
   "cell_type": "code",
   "execution_count": null,
   "id": "050a1ba8-f726-4799-a3bb-1e30e907d72f",
   "metadata": {},
   "outputs": [],
   "source": [
    "from sklearn.model_selection import train_test_split\n",
    "\n",
    "X = data[data.columns[6:-5]].values\n",
    "y = data['Good Fit'].values.reshape(-1, 1)\n",
    "\n",
    "X_train, X_test, y_train, y_test = train_test_split(\n",
    "    X, y,\n",
    "    test_size=0.2,        # 20% of the data will be used for testing\n",
    "    random_state=42,      # Ensures the split is the same every time\n",
    "    stratify=y\n",
    ")"
   ]
  },
  {
   "cell_type": "code",
   "execution_count": null,
   "id": "d9fd92e4-bf44-40de-b210-e43dd541a4a2",
   "metadata": {
    "scrolled": true
   },
   "outputs": [],
   "source": [
    "import lightgbm as lgb\n",
    "from skopt import BayesSearchCV\n",
    "from skopt.space import Real, Integer, Categorical\n",
    "\n",
    "model = lgb.LGBMClassifier(random_state=42)\n",
    "model.fit(X_train, y_train)\n",
    "\n",
    "search_space = {\n",
    "    'learning_rate': Real(0.01, 1.0, 'log-uniform'),\n",
    "    'n_estimators': Integer(100, 1000),\n",
    "    'num_leaves': Integer(2, 100),\n",
    "    'max_depth': Integer(-1, 50), # -1 means no limit\n",
    "    'reg_alpha': Real(0.0, 1.0), # L1 regularization\n",
    "    'reg_lambda': Real(0.0, 1.0), # L2 regularization\n",
    "    'min_child_samples': Integer(1, 50),\n",
    "}\n",
    "\n",
    "bayes_search = BayesSearchCV(\n",
    "    estimator=model,\n",
    "    search_spaces=search_space,\n",
    "    n_iter=10,  # Increase for more thorough search\n",
    "    cv=3,\n",
    "    n_jobs=-1,  # Use all available CPU cores\n",
    "    verbose=0,\n",
    "    random_state=42\n",
    ")\n",
    "\n",
    "bayes_search.fit(X_train, y_train)"
   ]
  },
  {
   "cell_type": "code",
   "execution_count": null,
   "id": "4df99b1f-ecc8-47c8-a14a-cd69f797b790",
   "metadata": {},
   "outputs": [],
   "source": [
    "from sklearn.metrics import roc_auc_score\n",
    "\n",
    "def calculate_gini(target_true: np.array, target_pred_proba: np.array):\n",
    "    \"\"\"\n",
    "    Calculates the Gini coefficient from the model's prediction probabilities.\n",
    "\n",
    "    The Gini coefficient is a common metric for evaluating binary classification\n",
    "    models and is derived from the Area Under the ROC Curve (AUC).\n",
    "    Formula: Gini = 2 * AUC - 1\n",
    "\n",
    "    Args:\n",
    "        target_true (np.array): The true labels of the target variable.\n",
    "        target_pred_proba (np.array): The predicted probabilities for each class.\n",
    "\n",
    "    Returns:\n",
    "        float: The calculated Gini coefficient, or 0.0 if AUC cannot be calculated.\n",
    "    \"\"\"\n",
    "    try:\n",
    "        # The positive class ('Up Trend') is typically the second column.\n",
    "        # We need to find its index to correctly calculate AUC.\n",
    "        auc = roc_auc_score(target_true, target_pred_proba)\n",
    "        gini = 2 * auc - 1\n",
    "    except (ValueError, IndexError):\n",
    "        # Handle cases where AUC cannot be computed (e.g., only one class present).\n",
    "        logging.warning(\"Could not calculate Gini coefficient (likely only one class in target). Returning 0.0.\")\n",
    "        gini = 0.0\n",
    "    return gini"
   ]
  },
  {
   "cell_type": "code",
   "execution_count": null,
   "id": "5c5f875d-e238-4217-9990-681a8c578a6d",
   "metadata": {},
   "outputs": [],
   "source": [
    "from sklearn.metrics import accuracy_score\n",
    "\n",
    "y_train_pred = bayes_search.predict(X_train) \n",
    "y_train_pred_proba = bayes_search.predict_proba(X_train)[:, 1]\n",
    "\n",
    "y_test_pred = bayes_search.predict(X_test)\n",
    "y_test_pred_proba = bayes_search.predict_proba(X_test)[:, 1]\n",
    "\n",
    "accuracy_train = accuracy_score(y_train, y_train_pred)\n",
    "accuracy_test = accuracy_score(y_test, y_test_pred)\n",
    "\n",
    "print(accuracy_train)\n",
    "print(accuracy_test)"
   ]
  },
  {
   "cell_type": "code",
   "execution_count": null,
   "id": "071154ae-fde1-4486-9ee9-005f9b4511ba",
   "metadata": {},
   "outputs": [],
   "source": []
  },
  {
   "cell_type": "code",
   "execution_count": null,
   "id": "f287f541-ccab-459c-b6e0-c7a5f1077bf5",
   "metadata": {},
   "outputs": [],
   "source": [
    "data_fit = data.loc[data['Good Fit'], :]"
   ]
  },
  {
   "cell_type": "code",
   "execution_count": null,
   "id": "44c826fe-89f0-4693-86aa-c3be67bdd68d",
   "metadata": {},
   "outputs": [],
   "source": []
  },
  {
   "cell_type": "code",
   "execution_count": null,
   "id": "934bcb1f-9a93-4655-a9ff-44d53741b8af",
   "metadata": {},
   "outputs": [],
   "source": [
    "data_fit['Upcoming 10 Days Trend'].value_counts()"
   ]
  },
  {
   "cell_type": "code",
   "execution_count": 2,
   "id": "0ed3feb6-5a61-48f8-a138-ed0208e7b908",
   "metadata": {},
   "outputs": [],
   "source": [
    "# data_fit.to_csv('test.csv', index=False)\n",
    "data_fit = pd.read_csv('test.csv')"
   ]
  },
  {
   "cell_type": "code",
   "execution_count": null,
   "id": "5fe45e28-6c9f-4e3f-801a-cfdfafeb4b53",
   "metadata": {},
   "outputs": [],
   "source": []
  },
  {
   "cell_type": "code",
   "execution_count": null,
   "id": "e926a70b-ee7d-4259-9d6f-6a343e492e5f",
   "metadata": {},
   "outputs": [],
   "source": []
  },
  {
   "cell_type": "code",
   "execution_count": null,
   "id": "2e23ef69-56f1-40f9-9a32-428ed103f5fa",
   "metadata": {},
   "outputs": [],
   "source": []
  },
  {
   "cell_type": "code",
   "execution_count": 3,
   "id": "86739253-03fe-4bdf-a64c-4638e8f16866",
   "metadata": {},
   "outputs": [
    {
     "name": "stderr",
     "output_type": "stream",
     "text": [
      "2025-08-10 15:00:18 - INFO - --- Starting Model Development for Target: 'Upcoming 10 Days Trend' ---\n",
      "2025-08-10 15:00:18 - INFO - Loading feature names from 'modelDevelopment/technical_indicator_features.txt'.\n",
      "2025-08-10 15:00:18 - INFO - Loaded 34 features.\n",
      "2025-08-10 15:00:18 - INFO - Splitting data into training, validation, testing, and forecast sets.\n",
      "2025-08-10 15:00:18 - INFO - Found 0 data points for future forecasting.\n",
      "2025-08-10 15:00:18 - INFO - Training set size: 573, Test set size: 30.\n",
      "2025-08-10 15:00:18 - INFO - Created PredefinedSplit for time-series cross-validation.\n",
      "2025-08-10 15:00:18 - INFO - Initializing CatBoost model and starting hyperparameter tuning with BayesSearchCV.\n",
      "2025-08-10 15:00:18 - INFO - Hyperparameter search space defined: {'depth': Integer(low=1, high=5, prior='uniform', transform='identity'), 'learning_rate': Real(low=0.01, high=0.1, prior='log-uniform', transform='identity'), 'iterations': Integer(low=150, high=300, prior='uniform', transform='identity'), 'l2_leaf_reg': Real(low=0.5, high=3.0, prior='uniform', transform='identity')}\n",
      "2025-08-10 15:00:18 - INFO - Using 'roc_auc' as the scoring metric for hyperparameter tuning.\n",
      "2025-08-10 15:00:18 - INFO - Fitting BayesSearchCV... This may take some time.\n",
      "2025-08-10 15:03:51 - INFO - Hyperparameter tuning complete.\n",
      "2025-08-10 15:03:51 - INFO - Best parameters found: OrderedDict([('depth', 3), ('iterations', 152), ('l2_leaf_reg', 3.0), ('learning_rate', 0.01639758436945397)])\n",
      "2025-08-10 15:03:51 - INFO - Best cross-validated roc_auc: 0.6250\n",
      "2025-08-10 15:03:51 - INFO - Evaluating model performance on the Training set.\n",
      "2025-08-10 15:03:51 - INFO - Training Set Performance - Accuracy: 0.7382, Gini: 0.6555\n",
      "2025-08-10 15:03:51 - INFO - Evaluating model performance on the Testing set.\n",
      "2025-08-10 15:03:51 - INFO - Testing Set Performance - Accuracy: 0.5000, Gini: 0.0000\n",
      "2025-08-10 15:03:51 - INFO - --- Model Development for 'Upcoming 10 Days Trend' Finished Successfully ---\n"
     ]
    }
   ],
   "source": [
    "from modelDevelopment.main import develop_model\n",
    "\n",
    "model_10_days, train_metrics_10_days, test_metrics_10_days = develop_model(data_fit, 'Upcoming 10 Days Trend')"
   ]
  },
  {
   "cell_type": "code",
   "execution_count": 4,
   "id": "fc7f39b9-8170-4d0b-a339-bef5f3ac3204",
   "metadata": {},
   "outputs": [
    {
     "data": {
      "text/plain": [
       "{'Accuracy': [0.7382198952879581],\n",
       " 'Precision Up Trend': [0.7108433734939759],\n",
       " 'Precision Down Trend': [0.92],\n",
       " 'Recall Up Trend': [0.9833333333333333],\n",
       " 'Recall Down Trend': [0.323943661971831],\n",
       " 'Gini': [0.6554773082942096]}"
      ]
     },
     "execution_count": 4,
     "metadata": {},
     "output_type": "execute_result"
    }
   ],
   "source": [
    "train_metrics_10_days"
   ]
  },
  {
   "cell_type": "code",
   "execution_count": 5,
   "id": "ac11d466-f9aa-4dbe-ba01-8322df8f6810",
   "metadata": {},
   "outputs": [
    {
     "data": {
      "text/plain": [
       "{'Accuracy': [0.5],\n",
       " 'Precision Up Trend': [0.4],\n",
       " 'Precision Down Trend': [1.0],\n",
       " 'Recall Up Trend': [1.0],\n",
       " 'Recall Down Trend': [0.25],\n",
       " 'Gini': [0.0]}"
      ]
     },
     "execution_count": 5,
     "metadata": {},
     "output_type": "execute_result"
    }
   ],
   "source": [
    "test_metrics_10_days"
   ]
  },
  {
   "cell_type": "code",
   "execution_count": 13,
   "id": "2c97bc59-81f5-45ab-a22c-1772049fd89c",
   "metadata": {},
   "outputs": [],
   "source": [
    "from datetime import datetime, timedelta\n",
    "\n",
    "min_date = (datetime.strptime(data_fit['Date'].max(), '%Y-%m-%d') - timedelta(days=30)).strftime('%Y-%m-%d')\n",
    "train_data = data_fit[data_fit['Date'] < min_date]\n",
    "test_data = data_fit[data_fit['Date'] >= min_date]"
   ]
  },
  {
   "cell_type": "code",
   "execution_count": null,
   "id": "904edb36-5799-44dd-8655-9cc9c65b6aa5",
   "metadata": {},
   "outputs": [],
   "source": []
  },
  {
   "cell_type": "code",
   "execution_count": 19,
   "id": "d74553b2-770b-450b-b168-e1457e4cffcb",
   "metadata": {},
   "outputs": [
    {
     "ename": "NameError",
     "evalue": "name 'cv_split' is not defined",
     "output_type": "error",
     "traceback": [
      "\u001b[0;31m---------------------------------------------------------------------------\u001b[0m",
      "\u001b[0;31mNameError\u001b[0m                                 Traceback (most recent call last)",
      "Cell \u001b[0;32mIn[19], line 13\u001b[0m\n\u001b[1;32m     10\u001b[0m test_target \u001b[38;5;241m=\u001b[39m test_data[\u001b[38;5;124m'\u001b[39m\u001b[38;5;124mUpcoming 10 Days Trend\u001b[39m\u001b[38;5;124m'\u001b[39m]\u001b[38;5;241m.\u001b[39mvalues\n\u001b[1;32m     12\u001b[0m \u001b[38;5;66;03m# --- Step 3: Initialize, Tune, and Fit Model ---\u001b[39;00m\n\u001b[0;32m---> 13\u001b[0m model \u001b[38;5;241m=\u001b[39m initialize_and_fit_model(train_feature, train_target, \u001b[43mcv_split\u001b[49m)\n\u001b[1;32m     15\u001b[0m \u001b[38;5;66;03m# --- Step 4: Evaluate Final Model ---\u001b[39;00m\n\u001b[1;32m     16\u001b[0m train_metrics, test_metrics \u001b[38;5;241m=\u001b[39m measure_model_performance(\n\u001b[1;32m     17\u001b[0m     model, train_feature, train_target, test_feature, test_target\n\u001b[1;32m     18\u001b[0m )\n",
      "\u001b[0;31mNameError\u001b[0m: name 'cv_split' is not defined"
     ]
    }
   ],
   "source": [
    "from modelDevelopment.main import initialize_and_fit_model, measure_model_performance\n",
    "\n",
    "feature_file = 'modelDevelopment/technical_indicator_features.txt'\n",
    "with open(feature_file, \"r\") as file:\n",
    "    feature_columns = [line.strip() for line in file]\n",
    "\n",
    "train_feature = train_data[feature_columns].values\n",
    "train_target = train_data['Upcoming 10 Days Trend'].values\n",
    "test_feature = test_data[feature_columns].values\n",
    "test_target = test_data['Upcoming 10 Days Trend'].values\n",
    "\n",
    "# --- Step 3: Initialize, Tune, and Fit Model ---\n",
    "model = initialize_and_fit_model(train_feature, train_target, )\n",
    "\n",
    "# --- Step 4: Evaluate Final Model ---\n",
    "train_metrics, test_metrics = measure_model_performance(\n",
    "    model, train_feature, train_target, test_feature, test_target\n",
    ")\n"
   ]
  },
  {
   "cell_type": "code",
   "execution_count": null,
   "id": "2c30eef4-44db-4395-ad5c-e478a953227f",
   "metadata": {},
   "outputs": [],
   "source": []
  },
  {
   "cell_type": "code",
   "execution_count": null,
   "id": "f21c2581-5fe2-4558-9bc8-99c310deb7d6",
   "metadata": {},
   "outputs": [],
   "source": []
  },
  {
   "cell_type": "code",
   "execution_count": null,
   "id": "2e155d84-487a-4465-94a7-d40818c1aea8",
   "metadata": {},
   "outputs": [],
   "source": []
  },
  {
   "cell_type": "code",
   "execution_count": null,
   "id": "58c8f5e8-ecad-44fd-88c0-ed9f82a2e2a0",
   "metadata": {},
   "outputs": [],
   "source": []
  },
  {
   "cell_type": "code",
   "execution_count": null,
   "id": "b8a44bbd-cd10-4dc3-80f4-ab01bf42fa4c",
   "metadata": {},
   "outputs": [],
   "source": []
  }
 ],
 "metadata": {
  "kernelspec": {
   "display_name": "Python 3 (ipykernel)",
   "language": "python",
   "name": "python3"
  },
  "language_info": {
   "codemirror_mode": {
    "name": "ipython",
    "version": 3
   },
   "file_extension": ".py",
   "mimetype": "text/x-python",
   "name": "python",
   "nbconvert_exporter": "python",
   "pygments_lexer": "ipython3",
   "version": "3.10.18"
  }
 },
 "nbformat": 4,
 "nbformat_minor": 5
}
