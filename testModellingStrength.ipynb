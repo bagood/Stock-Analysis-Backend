{
 "cells": [
  {
   "cell_type": "code",
   "execution_count": null,
   "id": "68555dc3-d806-446b-9438-9f3136c4af07",
   "metadata": {},
   "outputs": [],
   "source": [
    "import pandas as pd\n",
    "\n",
    "from warnings import simplefilter\n",
    "simplefilter('ignore')\n",
    "\n",
    "pd.set_option('display.max_rows', 10)\n",
    "pd.set_option('display.max_columns', 100)"
   ]
  },
  {
   "cell_type": "code",
   "execution_count": null,
   "id": "eddd67d7-da81-4f45-8cb1-580f2bdc3aac",
   "metadata": {},
   "outputs": [],
   "source": [
    "from dataPreparation.main import prepare_data_for_modelling_strength"
   ]
  },
  {
   "cell_type": "code",
   "execution_count": null,
   "id": "88f948b8-9f41-4c5e-95fd-227c915950f3",
   "metadata": {},
   "outputs": [],
   "source": [
    "rsquared_data = prepare_data_for_modelling_strength(\n",
    "    emiten='',\n",
    "    start_date='',\n",
    "    end_date='',\n",
    "    target_column='Close',\n",
    "    rolling_windows=[10, 15],\n",
    "    download=False\n",
    ")"
   ]
  },
  {
   "cell_type": "code",
   "execution_count": null,
   "id": "0f3bcfdd-9010-4565-99a3-ac516b44dc97",
   "metadata": {},
   "outputs": [],
   "source": [
    "from dataPreparation.helper import _download_stock_data, _generate_all_linreg_gradients, _generate_all_linreg_rsquared_score, _generate_linreg_rsquared_score\n",
    "from dataPreparation.main import generate_all_technical_indicators"
   ]
  },
  {
   "cell_type": "code",
   "execution_count": null,
   "id": "eed49953-58d8-4cd4-876f-29425c313bfa",
   "metadata": {},
   "outputs": [],
   "source": [
    "data = pd.read_csv('dataPreparation/dummy_data.csv')\n",
    "data = generate_all_technical_indicators(data)"
   ]
  },
  {
   "cell_type": "code",
   "execution_count": null,
   "id": "0214800c-dada-47a2-8723-7566f5b1d7f8",
   "metadata": {},
   "outputs": [],
   "source": [
    "target_data = data['Close'].values\n",
    "rolling_window = 10\n",
    "\n",
    "linreg_rsquared_score = [\n",
    "    _generate_linreg_rsquared_score(target_data[i+1 : i+1+rolling_window])\n",
    "    for i in range(len(target_data) - rolling_window)\n",
    "]"
   ]
  },
  {
   "cell_type": "code",
   "execution_count": null,
   "id": "626ec1a6-12fb-4cea-85fe-5d2617002afa",
   "metadata": {},
   "outputs": [],
   "source": []
  },
  {
   "cell_type": "code",
   "execution_count": null,
   "id": "bde90373-e169-4738-999f-586b1d82c3fc",
   "metadata": {},
   "outputs": [],
   "source": []
  },
  {
   "cell_type": "code",
   "execution_count": null,
   "id": "2f43fc0b-049e-4539-8a17-936dbf8afa3b",
   "metadata": {},
   "outputs": [],
   "source": []
  },
  {
   "cell_type": "code",
   "execution_count": null,
   "id": "0f6c1d73-7e31-48bd-9d7e-11cbb04613e6",
   "metadata": {},
   "outputs": [],
   "source": []
  },
  {
   "cell_type": "code",
   "execution_count": null,
   "id": "90101a2c-e807-402c-8084-742b05d3e00b",
   "metadata": {},
   "outputs": [],
   "source": []
  }
 ],
 "metadata": {
  "kernelspec": {
   "display_name": "Python 3 (ipykernel)",
   "language": "python",
   "name": "python3"
  },
  "language_info": {
   "codemirror_mode": {
    "name": "ipython",
    "version": 3
   },
   "file_extension": ".py",
   "mimetype": "text/x-python",
   "name": "python",
   "nbconvert_exporter": "python",
   "pygments_lexer": "ipython3",
   "version": "3.10.15"
  }
 },
 "nbformat": 4,
 "nbformat_minor": 5
}
