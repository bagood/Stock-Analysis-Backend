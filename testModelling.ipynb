{
 "cells": [
  {
   "cell_type": "code",
   "execution_count": 1,
   "id": "68555dc3-d806-446b-9438-9f3136c4af07",
   "metadata": {},
   "outputs": [],
   "source": [
    "import pandas as pd\n",
    "\n",
    "from warnings import simplefilter\n",
    "simplefilter('ignore')\n",
    "\n",
    "pd.set_option('display.max_rows', 10)\n",
    "pd.set_option('display.max_columns', 100)"
   ]
  },
  {
   "cell_type": "code",
   "execution_count": 2,
   "id": "e40bdd6d-2c59-427d-9c6c-b82d90059b3c",
   "metadata": {},
   "outputs": [],
   "source": [
    "from performStockAnalysis.main import select_kode_to_model, develop_trend_models, develop_strength_models"
   ]
  },
  {
   "cell_type": "code",
   "execution_count": 3,
   "id": "97b5737b-e9c5-4d63-aa71-92ff7e61e337",
   "metadata": {
    "scrolled": true
   },
   "outputs": [
    {
     "name": "stderr",
     "output_type": "stream",
     "text": [
      "2025-08-25 22:15:35 - INFO - Starting stock selection process based on recent trading volume\n",
      "2025-08-25 22:15:35 - INFO - Loaded a limited list of 6 stocks\n",
      "2025-08-25 22:15:35 - INFO - Fetching volume data for 6 stocks from 2025-07-11 to today\n",
      "2025-08-25 22:15:35 - INFO - (1/6) Fetching volume for ticker: AALI\n",
      "2025-08-25 22:15:36 - INFO - (2/6) Fetching volume for ticker: ABBA\n",
      "2025-08-25 22:15:36 - INFO - (3/6) Fetching volume for ticker: ABDA\n",
      "2025-08-25 22:15:36 - INFO - (4/6) Fetching volume for ticker: ABMM\n",
      "2025-08-25 22:15:36 - INFO - (5/6) Fetching volume for ticker: ACES\n",
      "2025-08-25 22:15:36 - INFO - (6/6) Fetching volume for ticker: ACST\n",
      "2025-08-25 22:15:36 - INFO - Calculated selection threshold. Selecting top 3 most traded stocks\n",
      "2025-08-25 22:15:36 - INFO - Stock selection complete. Selected tickers: ['ACES', 'ACST', 'AALI']\n"
     ]
    }
   ],
   "source": [
    "selected_kode = select_kode_to_model(6)"
   ]
  },
  {
   "cell_type": "code",
   "execution_count": null,
   "id": "315a00ed-f6d0-4ec6-82be-eed749c0486f",
   "metadata": {
    "scrolled": true
   },
   "outputs": [
    {
     "name": "stderr",
     "output_type": "stream",
     "text": [
      "2025-08-25 22:15:36 - INFO - Starting Bulk Model Development for 3 Selected Stocks\n",
      "2025-08-25 22:15:36 - INFO - Processing Ticker: ACES (1/3)\n",
      "2025-08-25 22:15:36 - INFO - Preparing data for ACES with 10 and 15-day trend targets\n",
      "2025-08-25 22:15:36 - INFO - Starting Data Preparation Pipeline for Ticker: ACES\n",
      "2025-08-25 22:15:36 - INFO - Downloading stock data for ticker ACES.JK\n",
      "2025-08-25 22:15:37 - INFO - Generating technical indicators as features\n",
      "2025-08-25 22:15:37 - INFO - Processing the data into a format that is compatible for generating the stock indicators\n",
      "2025-08-25 22:15:37 - INFO - Generating stock indicators of price trends\n",
      "2025-08-25 22:15:39 - INFO - Generating stock indicators of price channels\n",
      "2025-08-25 22:15:43 - INFO - Generating stock indicators of oscillators\n",
      "2025-08-25 22:15:44 - INFO - Generating stock indicators of volume based\n",
      "2025-08-25 22:15:48 - INFO - Generating stock indicators of price transformations\n",
      "2025-08-25 22:15:49 - INFO - Successfully generated all stock indicators\n",
      "2025-08-25 22:15:49 - INFO - Acquired 52 features for the stock data\n",
      "2025-08-25 22:15:49 - INFO - Saving all newly generated features into modelDevelopment/technical_indicator_features.txt\n",
      "2025-08-25 22:15:49 - INFO - Generating upcoming 10 trend labels as target variables\n",
      "2025-08-25 22:15:50 - INFO - Generating upcoming 15 trend labels as target variables\n",
      "2025-08-25 22:15:50 - INFO - Dropping rows containing missing target variables\n",
      "2025-08-25 22:15:50 - INFO - Succesfully Executed the Data Preparation Pipeline for ACES\n",
      "2025-08-25 22:15:50 - INFO - Developing model for 'ACES' - 10 Day Trend\n",
      "2025-08-25 22:15:50 - INFO - Starting Model Development for Target: 'Upcoming 10 Days Trend'\n",
      "2025-08-25 22:15:50 - INFO - Loading feature names from 'modelDevelopment/technical_indicator_features.txt'.\n",
      "2025-08-25 22:15:50 - INFO - Splitting data into training, validation, testing, and forecast sets.\n",
      "2025-08-25 22:15:50 - INFO - Training set size: 1039, Test set size: 30.\n",
      "2025-08-25 22:15:50 - INFO - Succesfully splitted both training and testing data into its corresponding feature and target data\n",
      "2025-08-25 22:15:50 - INFO - Sucessfully created PredefinedSplit for time-series cross-validation.\n",
      "2025-08-25 22:15:50 - INFO - Initializing CatBoost model and starting hyperparameter tuning with BayesSearchCV\n",
      "2025-08-25 22:15:50 - INFO - Hyperparameter search space defined: {'depth': Integer(low=1, high=5, prior='uniform', transform='identity'), 'learning_rate': Real(low=0.01, high=0.1, prior='log-uniform', transform='identity'), 'iterations': Integer(low=150, high=300, prior='uniform', transform='identity'), 'l2_leaf_reg': Real(low=0.5, high=3.0, prior='uniform', transform='identity')}\n",
      "2025-08-25 22:15:50 - INFO - Using 'roc_auc' as the scoring metric for hyperparameter tuning.\n",
      "2025-08-25 22:15:50 - INFO - Fitting BayesSearchCV... This may take some time.\n",
      "2025-08-25 22:15:57 - INFO - Hyperparameter tuning complete.\n",
      "2025-08-25 22:15:57 - INFO - Best parameters found: OrderedDict([('depth', 2), ('iterations', 279), ('l2_leaf_reg', 2.072093863777752), ('learning_rate', 0.041641202480854435)])\n",
      "2025-08-25 22:15:57 - INFO - Best cross-validated roc_auc: 0.7963\n",
      "2025-08-25 22:15:57 - INFO - Measuring model performance for training data\n",
      "2025-08-25 22:15:57 - INFO - Evaluating model performance on the Training set.\n",
      "2025-08-25 22:15:57 - INFO - Training Set Performance - Accuracy: 0.7074, Gini: 0.6104, Up Trend Precision: 0.7670, Down Trend Precision: 0.6822\n",
      "2025-08-25 22:15:57 - INFO - Measuring model performance for testing data\n",
      "2025-08-25 22:15:57 - INFO - Evaluating model performance on the Testing set.\n",
      "2025-08-25 22:15:57 - INFO - Testing Set Performance - Accuracy: 0.5000, Gini: 0.5200, Up Trend Precision: 0.7273, Down Trend Precision: 0.3684\n",
      "2025-08-25 22:15:57 - INFO - Model Development for 'Upcoming 10 Days Trend' Finished Successfully\n",
      "2025-08-25 22:15:57 - INFO - Developing model for 'ACES' - 15 Day Trend\n",
      "2025-08-25 22:15:57 - INFO - Starting Model Development for Target: 'Upcoming 15 Days Trend'\n",
      "2025-08-25 22:15:57 - INFO - Loading feature names from 'modelDevelopment/technical_indicator_features.txt'.\n",
      "2025-08-25 22:15:57 - INFO - Splitting data into training, validation, testing, and forecast sets.\n",
      "2025-08-25 22:15:57 - INFO - Training set size: 1039, Test set size: 30.\n",
      "2025-08-25 22:15:57 - INFO - Succesfully splitted both training and testing data into its corresponding feature and target data\n",
      "2025-08-25 22:15:57 - INFO - Sucessfully created PredefinedSplit for time-series cross-validation.\n",
      "2025-08-25 22:15:57 - INFO - Initializing CatBoost model and starting hyperparameter tuning with BayesSearchCV\n",
      "2025-08-25 22:15:57 - INFO - Hyperparameter search space defined: {'depth': Integer(low=1, high=5, prior='uniform', transform='identity'), 'learning_rate': Real(low=0.01, high=0.1, prior='log-uniform', transform='identity'), 'iterations': Integer(low=150, high=300, prior='uniform', transform='identity'), 'l2_leaf_reg': Real(low=0.5, high=3.0, prior='uniform', transform='identity')}\n",
      "2025-08-25 22:15:57 - INFO - Using 'roc_auc' as the scoring metric for hyperparameter tuning.\n",
      "2025-08-25 22:15:57 - INFO - Fitting BayesSearchCV... This may take some time.\n",
      "2025-08-25 22:15:59 - INFO - Hyperparameter tuning complete.\n",
      "2025-08-25 22:15:59 - INFO - Best parameters found: OrderedDict([('depth', 4), ('iterations', 190), ('l2_leaf_reg', 0.8399605348407928), ('learning_rate', 0.01734682933788561)])\n",
      "2025-08-25 22:15:59 - INFO - Best cross-validated roc_auc: 0.8259\n",
      "2025-08-25 22:15:59 - INFO - Measuring model performance for training data\n",
      "2025-08-25 22:15:59 - INFO - Evaluating model performance on the Training set.\n",
      "2025-08-25 22:15:59 - INFO - Training Set Performance - Accuracy: 0.7286, Gini: 0.6746, Up Trend Precision: 0.8259, Down Trend Precision: 0.6944\n",
      "2025-08-25 22:15:59 - INFO - Measuring model performance for testing data\n",
      "2025-08-25 22:15:59 - INFO - Evaluating model performance on the Testing set.\n",
      "2025-08-25 22:15:59 - INFO - Testing Set Performance - Accuracy: 0.5000, Gini: -0.2344, Up Trend Precision: 0.1667, Down Trend Precision: 0.5833\n",
      "2025-08-25 22:15:59 - INFO - Model Development for 'Upcoming 15 Days Trend' Finished Successfully\n",
      "2025-08-25 22:15:59 - INFO - Saving models and collating performance metrics for ACES\n",
      "2025-08-25 22:15:59 - INFO - Measuring model performances on training and testing sets\n",
      "2025-08-25 22:15:59 - INFO - Finished processing for Ticker: ACES\n",
      "2025-08-25 22:15:59 - INFO - Processing Ticker: ACST (2/3)\n",
      "2025-08-25 22:15:59 - INFO - Preparing data for ACST with 10 and 15-day trend targets\n",
      "2025-08-25 22:15:59 - INFO - Starting Data Preparation Pipeline for Ticker: ACST\n",
      "2025-08-25 22:15:59 - INFO - Downloading stock data for ticker ACST.JK\n",
      "2025-08-25 22:15:59 - INFO - Generating technical indicators as features\n",
      "2025-08-25 22:15:59 - INFO - Processing the data into a format that is compatible for generating the stock indicators\n",
      "2025-08-25 22:15:59 - INFO - Generating stock indicators of price trends\n",
      "2025-08-25 22:16:01 - INFO - Generating stock indicators of price channels\n",
      "2025-08-25 22:16:05 - INFO - Generating stock indicators of oscillators\n",
      "2025-08-25 22:16:05 - INFO - Generating stock indicators of volume based\n",
      "2025-08-25 22:16:10 - INFO - Generating stock indicators of price transformations\n",
      "2025-08-25 22:16:11 - INFO - Successfully generated all stock indicators\n",
      "2025-08-25 22:16:11 - INFO - Acquired 52 features for the stock data\n",
      "2025-08-25 22:16:11 - INFO - Saving all newly generated features into modelDevelopment/technical_indicator_features.txt\n",
      "2025-08-25 22:16:11 - INFO - Generating upcoming 10 trend labels as target variables\n",
      "2025-08-25 22:16:11 - INFO - Generating upcoming 15 trend labels as target variables\n",
      "2025-08-25 22:16:12 - INFO - Dropping rows containing missing target variables\n",
      "2025-08-25 22:16:12 - INFO - Succesfully Executed the Data Preparation Pipeline for ACST\n",
      "2025-08-25 22:16:12 - INFO - Developing model for 'ACST' - 10 Day Trend\n",
      "2025-08-25 22:16:12 - INFO - Starting Model Development for Target: 'Upcoming 10 Days Trend'\n",
      "2025-08-25 22:16:12 - INFO - Loading feature names from 'modelDevelopment/technical_indicator_features.txt'.\n",
      "2025-08-25 22:16:12 - INFO - Splitting data into training, validation, testing, and forecast sets.\n",
      "2025-08-25 22:16:12 - INFO - Training set size: 1039, Test set size: 30.\n",
      "2025-08-25 22:16:12 - INFO - Succesfully splitted both training and testing data into its corresponding feature and target data\n",
      "2025-08-25 22:16:12 - INFO - Sucessfully created PredefinedSplit for time-series cross-validation.\n",
      "2025-08-25 22:16:12 - INFO - Initializing CatBoost model and starting hyperparameter tuning with BayesSearchCV\n",
      "2025-08-25 22:16:12 - INFO - Hyperparameter search space defined: {'depth': Integer(low=1, high=5, prior='uniform', transform='identity'), 'learning_rate': Real(low=0.01, high=0.1, prior='log-uniform', transform='identity'), 'iterations': Integer(low=150, high=300, prior='uniform', transform='identity'), 'l2_leaf_reg': Real(low=0.5, high=3.0, prior='uniform', transform='identity')}\n",
      "2025-08-25 22:16:12 - INFO - Using 'roc_auc' as the scoring metric for hyperparameter tuning.\n",
      "2025-08-25 22:16:12 - INFO - Fitting BayesSearchCV... This may take some time.\n",
      "2025-08-25 22:16:14 - INFO - Hyperparameter tuning complete.\n",
      "2025-08-25 22:16:14 - INFO - Best parameters found: OrderedDict([('depth', 1), ('iterations', 196), ('l2_leaf_reg', 0.5770049616834606), ('learning_rate', 0.026758363461572877)])\n",
      "2025-08-25 22:16:14 - INFO - Best cross-validated roc_auc: 0.7195\n",
      "2025-08-25 22:16:14 - INFO - Measuring model performance for training data\n",
      "2025-08-25 22:16:14 - INFO - Evaluating model performance on the Training set.\n",
      "2025-08-25 22:16:14 - INFO - Training Set Performance - Accuracy: 0.6545, Gini: 0.4517, Up Trend Precision: 0.7222, Down Trend Precision: 0.6466\n",
      "2025-08-25 22:16:14 - INFO - Measuring model performance for testing data\n",
      "2025-08-25 22:16:14 - INFO - Evaluating model performance on the Testing set.\n",
      "2025-08-25 22:16:14 - INFO - Testing Set Performance - Accuracy: 0.5000, Gini: 0.0982, Up Trend Precision: 0.4667, Down Trend Precision: 0.5333\n",
      "2025-08-25 22:16:14 - INFO - Model Development for 'Upcoming 10 Days Trend' Finished Successfully\n",
      "2025-08-25 22:16:14 - INFO - Developing model for 'ACST' - 15 Day Trend\n",
      "2025-08-25 22:16:14 - INFO - Starting Model Development for Target: 'Upcoming 15 Days Trend'\n",
      "2025-08-25 22:16:14 - INFO - Loading feature names from 'modelDevelopment/technical_indicator_features.txt'.\n",
      "2025-08-25 22:16:14 - INFO - Splitting data into training, validation, testing, and forecast sets.\n",
      "2025-08-25 22:16:14 - INFO - Training set size: 1039, Test set size: 30.\n",
      "2025-08-25 22:16:14 - INFO - Succesfully splitted both training and testing data into its corresponding feature and target data\n",
      "2025-08-25 22:16:14 - INFO - Sucessfully created PredefinedSplit for time-series cross-validation.\n",
      "2025-08-25 22:16:14 - INFO - Initializing CatBoost model and starting hyperparameter tuning with BayesSearchCV\n",
      "2025-08-25 22:16:14 - INFO - Hyperparameter search space defined: {'depth': Integer(low=1, high=5, prior='uniform', transform='identity'), 'learning_rate': Real(low=0.01, high=0.1, prior='log-uniform', transform='identity'), 'iterations': Integer(low=150, high=300, prior='uniform', transform='identity'), 'l2_leaf_reg': Real(low=0.5, high=3.0, prior='uniform', transform='identity')}\n",
      "2025-08-25 22:16:14 - INFO - Using 'roc_auc' as the scoring metric for hyperparameter tuning.\n",
      "2025-08-25 22:16:14 - INFO - Fitting BayesSearchCV... This may take some time.\n",
      "2025-08-25 22:16:15 - INFO - Hyperparameter tuning complete.\n",
      "2025-08-25 22:16:15 - INFO - Best parameters found: OrderedDict([('depth', 1), ('iterations', 241), ('l2_leaf_reg', 1.7498424061531668), ('learning_rate', 0.05790453187793884)])\n",
      "2025-08-25 22:16:15 - INFO - Best cross-validated roc_auc: 0.6787\n",
      "2025-08-25 22:16:15 - INFO - Measuring model performance for training data\n",
      "2025-08-25 22:16:15 - INFO - Evaluating model performance on the Training set.\n",
      "2025-08-25 22:16:15 - INFO - Training Set Performance - Accuracy: 0.6641, Gini: 0.4461, Up Trend Precision: 0.6364, Down Trend Precision: 0.6689\n",
      "2025-08-25 22:16:15 - INFO - Measuring model performance for testing data\n",
      "2025-08-25 22:16:15 - INFO - Evaluating model performance on the Testing set.\n",
      "2025-08-25 22:16:15 - INFO - Testing Set Performance - Accuracy: 0.2667, Gini: -0.5022, Up Trend Precision: 0.2667, Down Trend Precision: 0.2667\n",
      "2025-08-25 22:16:15 - INFO - Model Development for 'Upcoming 15 Days Trend' Finished Successfully\n",
      "2025-08-25 22:16:15 - INFO - Saving models and collating performance metrics for ACST\n",
      "2025-08-25 22:16:15 - INFO - Measuring model performances on training and testing sets\n",
      "2025-08-25 22:16:15 - INFO - Finished processing for Ticker: ACST\n",
      "2025-08-25 22:16:15 - INFO - Processing Ticker: AALI (3/3)\n",
      "2025-08-25 22:16:15 - INFO - Preparing data for AALI with 10 and 15-day trend targets\n",
      "2025-08-25 22:16:15 - INFO - Starting Data Preparation Pipeline for Ticker: AALI\n",
      "2025-08-25 22:16:15 - INFO - Downloading stock data for ticker AALI.JK\n",
      "2025-08-25 22:16:15 - INFO - Generating technical indicators as features\n",
      "2025-08-25 22:16:15 - INFO - Processing the data into a format that is compatible for generating the stock indicators\n",
      "2025-08-25 22:16:15 - INFO - Generating stock indicators of price trends\n",
      "2025-08-25 22:16:17 - INFO - Generating stock indicators of price channels\n",
      "2025-08-25 22:16:21 - INFO - Generating stock indicators of oscillators\n",
      "2025-08-25 22:16:21 - INFO - Generating stock indicators of volume based\n"
     ]
    }
   ],
   "source": [
    "develop_trend_models(selected_kode)"
   ]
  },
  {
   "cell_type": "code",
   "execution_count": null,
   "id": "a2c8adfa-09c9-460e-a215-938539bdab61",
   "metadata": {},
   "outputs": [],
   "source": [
    "develop_strength_models(selected_kode)"
   ]
  }
 ],
 "metadata": {
  "kernelspec": {
   "display_name": "Python 3 (ipykernel)",
   "language": "python",
   "name": "python3"
  },
  "language_info": {
   "codemirror_mode": {
    "name": "ipython",
    "version": 3
   },
   "file_extension": ".py",
   "mimetype": "text/x-python",
   "name": "python",
   "nbconvert_exporter": "python",
   "pygments_lexer": "ipython3",
   "version": "3.10.15"
  }
 },
 "nbformat": 4,
 "nbformat_minor": 5
}
